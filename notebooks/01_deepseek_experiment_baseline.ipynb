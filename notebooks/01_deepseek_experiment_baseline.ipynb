{
 "cells": [
  {
   "cell_type": "markdown",
   "metadata": {
    "id": "WF6gso5kESKb"
   },
   "source": [
    "# Experiment Runner: HLE Analysis with DeepSeek\n",
    "\n",
    "このノートブックは設定ファイルに基づいて推論プロセス全体をオーケストレーションします"
   ]
  },
  {
   "cell_type": "markdown",
   "metadata": {
    "id": "Umkmd3gnESKd"
   },
   "source": [
    "## 1. Setup and Configuration"
   ]
  },
  {
   "cell_type": "code",
   "execution_count": null,
   "metadata": {
    "id": "VGU2G0fAESKd"
   },
   "outputs": [],
   "source": [
    "import os\n",
    "import sys\n",
    "from pathlib import Path\n",
    "\n",
    "# --- 環境判別とセットアップ ---\n",
    "# Colab環境かどうかを判定\n",
    "try:\n",
    "    import google.colab\n",
    "    IN_COLAB = True\n",
    "except ImportError:\n",
    "    IN_COLAB = False\n",
    "\n",
    "if IN_COLAB:\n",
    "    print(\"✅ Colab環境を検出しました。セットアップを開始します。\")\n",
    "    from google.colab import drive, userdata\n",
    "    drive.mount('/content/drive')\n",
    "\n",
    "    # --- Google Driveのパスに合わせて変更してください ---\n",
    "    PROJECT_ROOT = '/content/drive/MyDrive/llm-hle-experiment'\n",
    "    # ---------------------------------------------------------\n",
    "\n",
    "    os.chdir(PROJECT_ROOT)\n",
    "\n",
    "    print(\"\\n📦 必要なライブラリをインストールします...\")\n",
    "    !pip install -r requirements.txt -q | tail -n 1\n",
    "\n",
    "    print(\"\\n🔑 Hugging Face APIキーを設定します...\")\n",
    "    os.environ['HUGGINGFACE_API_KEY'] = userdata.get('HF_TOKEN')\n",
    "\n",
    "else:\n",
    "    print(\"✅ ローカル環境を検出しました。セットアップを開始します。\")\n",
    "    #  'notebooks' ディレクトリにいたら、プロジェクトルートに移動\n",
    "    if Path.cwd().name == 'notebooks':\n",
    "        os.chdir('..')\n",
    "\n",
    "    PROJECT_ROOT = Path.cwd()\n",
    "\n",
    "    print(\"\\n🔑 .envファイルからHugging Face APIキーを読み込みます...\")\n",
    "    from dotenv import load_dotenv\n",
    "    load_dotenv(Path(PROJECT_ROOT) / '.env')\n",
    "\n",
    "# Pythonの検索パスに 'src' ディレクトリ追加\n",
    "sys.path.append(str(Path(PROJECT_ROOT) / 'src'))\n",
    "\n",
    "print(f\"\\n▶️ 作業ディレクトリ: {Path.cwd()}\")\n",
    "print(\"🎉 セットアップが完了しました。\")"
   ]
  },
  {
   "cell_type": "code",
   "execution_count": null,
   "metadata": {
    "id": "j65rvTVhESKh"
   },
   "outputs": [],
   "source": [
    "%load_ext autoreload\n",
    "%autoreload 2\n",
    "\n",
    "import pandas as pd\n",
    "from tqdm.auto import tqdm\n",
    "\n",
    "from utils import load_config, load_prompt_template, ensure_dir\n",
    "from data_loader import load_hle_dataset\n",
    "from model_handler import ModelHandler\n",
    "\n",
    "# APIキーの存在確認\n",
    "hf_token_check = os.getenv('HUGGINGFACE_API_KEY')\n",
    "print(f\"Hugging Face Token Loaded: {'Yes' if hf_token_check else 'No'}\")\n",
    "if hf_token_check:\n",
    "    print(f\"Token starts with: {hf_token_check[:5]}...\")\n",
    "\n",
    "# --- 実験設定 ---\n",
    "CONFIG_FILE = 'configs/deepseek_r1_0528_qwen3_8b_exp01_token32000_question_ids.yml' # @param 新しい実験用設定ファイル\n",
    "\n",
    "print(f\"\\nLoading configuration from: {CONFIG_FILE}\")\n",
    "config = load_config(CONFIG_FILE)\n",
    "\n",
    "# Promptsのロード\n",
    "mc_prompt_template = load_prompt_template('mc_system_prompt')\n",
    "em_prompt_template = load_prompt_template('em_system_prompt')\n",
    "\n",
    "print(\"Configuration and prompts loaded successfully.\")"
   ]
  },
  {
   "cell_type": "markdown",
   "metadata": {
    "id": "1z3AYCI1ESKi"
   },
   "source": [
    "## 2. Load Dataset"
   ]
  },
  {
   "cell_type": "code",
   "execution_count": null,
   "metadata": {
    "id": "oDXHrfPJESKi"
   },
   "outputs": [],
   "source": [
    "dataset = load_hle_dataset(config['DATASET_NAME'])\n",
    "\n",
    "# インデックス指定でフィルタリング\n",
    "question_indices = config.get('QUESTION_INDICES', None)\n",
    "if question_indices:\n",
    "    # インデックスでサブセット作成\n",
    "    subset_dataset = dataset.select(question_indices)\n",
    "    print(f\"Dataset filtered by indices: {question_indices}\")\n",
    "else:\n",
    "    # 従来通りのサンプル数制限または全件\n",
    "    num_samples = config.get('NUM_SAMPLES_TO_RUN', None)\n",
    "    if num_samples is not None:\n",
    "        subset_dataset = dataset.select(range(num_samples))\n",
    "        print(f\"Dataset selected by sample count: {num_samples}\")\n",
    "    else:\n",
    "        subset_dataset = dataset\n",
    "        print(f\"Using full dataset\")\n",
    "\n",
    "print(f\"Dataset loaded. Running on {len(subset_dataset)} samples.\")\n",
    "display(subset_dataset)"
   ]
  },
  {
   "cell_type": "code",
   "execution_count": null,
   "metadata": {},
   "outputs": [],
   "source": [
    "# 冒頭2件のサンプルを確認\n",
    "subset_dataset[:2]"
   ]
  },
  {
   "cell_type": "markdown",
   "metadata": {
    "id": "yvZsEaA4ESKj"
   },
   "source": [
    "## 3. Load Model and Tokenizer"
   ]
  },
  {
   "cell_type": "code",
   "execution_count": null,
   "metadata": {
    "id": "Pb4fvYJfESKk"
   },
   "outputs": [],
   "source": [
    "model_handler = ModelHandler(\n",
    "    model_name=config['MODEL_NAME'],\n",
    "    hf_token=os.getenv('HUGGINGFACE_API_KEY')\n",
    ")"
   ]
  },
  {
   "cell_type": "markdown",
   "metadata": {
    "id": "hlskuXHsESKl"
   },
   "source": [
    "## 4. Run Inference Loop"
   ]
  },
  {
   "cell_type": "code",
   "execution_count": null,
   "metadata": {
    "id": "KjeziZlGESKl"
   },
   "outputs": [],
   "source": [
    "results = []\n",
    "\n",
    "for example in tqdm(subset_dataset):\n",
    "    if example['answer_type'] == 'multiple_choice': # Multiple Choice\n",
    "        prompt_template = mc_prompt_template\n",
    "    else: # Exact Match\n",
    "        prompt_template = em_prompt_template\n",
    "    final_prompt = prompt_template.format(question=example['question'])\n",
    "\n",
    "    # モデルからの応答を生成\n",
    "    raw_output = model_handler.generate(\n",
    "        prompt=final_prompt,\n",
    "        max_length=config.get('MAX_LENGTH', 4096),\n",
    "        temperature=config.get('TEMPERATURE', 1.0),\n",
    "        top_p=config.get('TOP_P', 1.0),\n",
    "        top_k=config.get('TOP_K', 50)\n",
    "    )\n",
    "\n",
    "    # 応答を解析\n",
    "    parsed_data = model_handler.parse_output(raw_output)\n",
    "\n",
    "    # 結果を辞書形式で保存\n",
    "    record = {\n",
    "        \"id\": example['id'],\n",
    "        \"question\": example['question'],\n",
    "        \"ground_truth\": example['answer'],\n",
    "        \"model_answer\": parsed_data.get('answer'),\n",
    "        \"confidence\": parsed_data.get('confidence'),\n",
    "        \"explanation\": parsed_data.get('explanation'),\n",
    "        \"think_process\": parsed_data.get('think_process'),\n",
    "        \"parse_error\": parsed_data.get('error'),\n",
    "        \"raw_output\": raw_output\n",
    "    }\n",
    "    results.append(record)"
   ]
  },
  {
   "cell_type": "markdown",
   "metadata": {
    "id": "mJiQ0woNESKn"
   },
   "source": [
    "## 5. Save Results"
   ]
  },
  {
   "cell_type": "code",
   "execution_count": null,
   "metadata": {
    "id": "mmTWyE7lESKo"
   },
   "outputs": [],
   "source": [
    "results_df = pd.DataFrame(results)\n",
    "\n",
    "# 出力ディレクトリとファイル名を設定\n",
    "output_dir = config['output_path']\n",
    "config_name = Path(CONFIG_FILE).stem # 拡張子なしのファイル名\n",
    "output_csv_path = Path(output_dir) / f\"{config_name}_results.csv\"\n",
    "\n",
    "# 出力ディレクトリを確認し、存在しない場合は作成する\n",
    "ensure_dir(output_dir)\n",
    "\n",
    "# 結果をCSVファイルに保存\n",
    "results_df.to_csv(output_csv_path, index=False, encoding='utf-8-sig')\n",
    "\n",
    "print(f\"Results successfully saved to: {output_csv_path}\")\n",
    "display(results_df.head())"
   ]
  }
 ],
 "metadata": {
  "accelerator": "GPU",
  "colab": {
   "gpuType": "A100",
   "machine_shape": "hm",
   "provenance": []
  },
  "kernelspec": {
   "display_name": "Python 3 (ipykernel)",
   "language": "python",
   "name": "python3"
  },
  "language_info": {
   "codemirror_mode": {
    "name": "ipython",
    "version": 3
   },
   "file_extension": ".py",
   "mimetype": "text/x-python",
   "name": "python",
   "nbconvert_exporter": "python",
   "pygments_lexer": "ipython3",
   "version": "3.11.0rc1"
  }
 },
 "nbformat": 4,
 "nbformat_minor": 4
}
