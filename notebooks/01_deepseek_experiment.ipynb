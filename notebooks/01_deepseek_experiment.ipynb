{
 "cells": [
  {
   "cell_type": "markdown",
   "metadata": {},
   "source": [
    "# Experiment Runner: HLE Analysis with DeepSeek\n",
    "\n",
    "このノートブックは設定ファイルに基づいて実験プロセス全体をオーケストレーションします"
   ]
  },
  {
   "cell_type": "markdown",
   "metadata": {},
   "source": [
    "## 1. Setup and Configuration"
   ]
  },
  {
   "cell_type": "code",
   "execution_count": 1,
   "metadata": {},
   "outputs": [
    {
     "name": "stdout",
     "output_type": "stream",
     "text": [
      "✅ 作業ディレクトリをプロジェクトルートに設定しました: /app\n"
     ]
    }
   ],
   "source": [
    "import os\n",
    "from pathlib import Path\n",
    "\n",
    "# 現在の作業ディレクトリを、プロジェクトのルートに設定する（Colabと同じ）\n",
    "\n",
    "# もし現在のディレクトリ名が 'notebooks' なら、一つ上の階層（プロジェクトルート）に移動する\n",
    "if Path.cwd().name == 'notebooks':\n",
    "    os.chdir('..')\n",
    "\n",
    "print(f\"✅ 作業ディレクトリをプロジェクトルートに設定しました: {Path.cwd()}\")"
   ]
  },
  {
   "cell_type": "code",
   "execution_count": null,
   "metadata": {},
   "outputs": [
    {
     "name": "stdout",
     "output_type": "stream",
     "text": [
      "The autoreload extension is already loaded. To reload it, use:\n",
      "  %reload_ext autoreload\n",
      "Hugging Face Token Loaded: Yes\n",
      "Token starts with: hf_ag...\n"
     ]
    }
   ],
   "source": [
    "%load_ext autoreload\n",
    "%autoreload 2\n",
    "\n",
    "import os\n",
    "import sys\n",
    "import pandas as pd\n",
    "from tqdm.auto import tqdm\n",
    "from dotenv import load_dotenv\n",
    "\n",
    "# .envファイルから環境変数を読み込む\n",
    "load_dotenv('.env')\n",
    "\n",
    "hf_token_check = os.getenv('HUGGINGFACE_API_KEY')\n",
    "print(f\"Hugging Face Token Loaded: {'Yes' if hf_token_check else 'No'}\")\n",
    "if hf_token_check:\n",
    "    # トークン全体は表示せず、最初の数文字だけ表示してトークンが正しく読み込まれたか確認する\n",
    "    print(f\"Token starts with: {hf_token_check[:5]}...\") \n",
    "\n",
    "from utils import load_config, load_prompt_template, ensure_dir\n",
    "from data_loader import load_hle_dataset\n",
    "from model_handler import ModelHandler"
   ]
  },
  {
   "cell_type": "code",
   "execution_count": null,
   "metadata": {},
   "outputs": [
    {
     "name": "stdout",
     "output_type": "stream",
     "text": [
      "Loading configuration from: configs/deepseek_base.yml\n",
      "Configuration and prompts loaded successfully.\n",
      "Configuration: {'MODEL_NAME': 'deepseek-ai/DeepSeek-R1-0528-Qwen3-8B', 'DATASET_NAME': 'cais/hle', 'output_path': 'llm-hle-experiment/outputs/results', 'NUM_SAMPLES_TO_RUN': 5, 'MAX_LENGTH': 4096, 'TEMPERATURE': 0.0}\n"
     ]
    }
   ],
   "source": [
    "# 実験したい設定ファイルを選択する\n",
    "CONFIG_FILE = 'configs/deepseek_base.yml'\n",
    "\n",
    "print(f\"Loading configuration from: {CONFIG_FILE}\")\n",
    "config = load_config(CONFIG_FILE)\n",
    "\n",
    "# promptsをロード\n",
    "mc_prompt_template = load_prompt_template('mc_system_prompt')\n",
    "em_prompt_template = load_prompt_template('em_system_prompt')\n",
    "\n",
    "print(\"Configuration and prompts loaded successfully.\")\n",
    "# configの内容を表示\n",
    "print(\"Configuration:\", config)"
   ]
  },
  {
   "cell_type": "markdown",
   "metadata": {},
   "source": [
    "## 2. Load Dataset"
   ]
  },
  {
   "cell_type": "code",
   "execution_count": null,
   "metadata": {},
   "outputs": [
    {
     "name": "stdout",
     "output_type": "stream",
     "text": [
      "Loading dataset: cais/hle (split: test)\n",
      "Original dataset size: 2500\n",
      "Filtered to text-only dataset size: 2158\n",
      "Dataset loaded. Running on 5 samples.\n"
     ]
    },
    {
     "data": {
      "text/plain": [
       "Dataset({\n",
       "    features: ['id', 'question', 'image', 'image_preview', 'answer', 'answer_type', 'author_name', 'rationale', 'rationale_image', 'raw_subject', 'category', 'canary'],\n",
       "    num_rows: 5\n",
       "})"
      ]
     },
     "metadata": {},
     "output_type": "display_data"
    }
   ],
   "source": [
    "dataset = load_hle_dataset(config['DATASET_NAME'])\n",
    "\n",
    "# 開発時はサンプル数を制限する\n",
    "num_samples = config.get('NUM_SAMPLES_TO_RUN', len(dataset))\n",
    "subset_dataset = dataset.select(range(num_samples))\n",
    "\n",
    "print(f\"Dataset loaded. Running on {len(subset_dataset)} samples.\")\n",
    "display(subset_dataset)"
   ]
  },
  {
   "cell_type": "markdown",
   "metadata": {},
   "source": [
    "## 3. Load Model and Tokenizer"
   ]
  },
  {
   "cell_type": "code",
   "execution_count": 7,
   "metadata": {},
   "outputs": [
    {
     "name": "stdout",
     "output_type": "stream",
     "text": [
      "Initializing ModelHandler on device: cpu\n",
      "Loading tokenizer: deepseek-ai/DeepSeek-R1-0528-Qwen3-8B\n",
      "Loading model: deepseek-ai/DeepSeek-R1-0528-Qwen3-8B\n"
     ]
    },
    {
     "name": "stderr",
     "output_type": "stream",
     "text": [
      "Unrecognized keys in `rope_scaling` for 'rope_type'='yarn': {'attn_factor'}\n"
     ]
    },
    {
     "data": {
      "application/vnd.jupyter.widget-view+json": {
       "model_id": "790ac556643e418eaca4cff28f6626cc",
       "version_major": 2,
       "version_minor": 0
      },
      "text/plain": [
       "Loading checkpoint shards:   0%|          | 0/2 [00:00<?, ?it/s]"
      ]
     },
     "metadata": {},
     "output_type": "display_data"
    },
    {
     "name": "stderr",
     "output_type": "stream",
     "text": [
      "Some parameters are on the meta device because they were offloaded to the disk and cpu.\n"
     ]
    },
    {
     "name": "stdout",
     "output_type": "stream",
     "text": [
      "Model and tokenizer loaded successfully.\n"
     ]
    }
   ],
   "source": [
    "model_handler = ModelHandler(\n",
    "    model_name=config['MODEL_NAME'],\n",
    "    hf_token=os.getenv('HUGGINGFACE_API_KEY')\n",
    ")"
   ]
  },
  {
   "cell_type": "markdown",
   "metadata": {},
   "source": [
    "## 4. Run Inference Loop"
   ]
  },
  {
   "cell_type": "code",
   "execution_count": null,
   "metadata": {},
   "outputs": [
    {
     "data": {
      "application/vnd.jupyter.widget-view+json": {
       "model_id": "e5eae878bbdd4c028206e102849c1856",
       "version_major": 2,
       "version_minor": 0
      },
      "text/plain": [
       "  0%|          | 0/5 [00:00<?, ?it/s]"
      ]
     },
     "metadata": {},
     "output_type": "display_data"
    },
    {
     "name": "stderr",
     "output_type": "stream",
     "text": [
      "The following generation flags are not valid and may be ignored: ['temperature']. Set `TRANSFORMERS_VERBOSITY=info` for more details.\n",
      "The attention mask is not set and cannot be inferred from input because pad token is same as eos token. As a consequence, you may observe unexpected behavior. Please pass your input's `attention_mask` to obtain reliable results.\n"
     ]
    }
   ],
   "source": [
    "results = []\n",
    "\n",
    "for example in tqdm(subset_dataset):\n",
    "    if example['answer_type'] == 'multiple_choice': # Multiple Choice\n",
    "        prompt_template = mc_prompt_template\n",
    "    else: # Exact Match\n",
    "        prompt_template = em_prompt_template\n",
    "    final_prompt = prompt_template.format(question=example['question'])\n",
    "    \n",
    "    # モデルからの応答を生成\n",
    "    raw_output = model_handler.generate(\n",
    "        prompt=final_prompt, \n",
    "        max_length=config['MAX_LENGTH'], \n",
    "        temperature=config['TEMPERATURE']\n",
    "    )\n",
    "    \n",
    "    # 応答を解析\n",
    "    parsed_data = model_handler.parse_output(raw_output)\n",
    "    \n",
    "    # 結果を辞書形式で保存\n",
    "    record = {\n",
    "        \"id\": example['id'],\n",
    "        \"question\": example['question'],\n",
    "        \"ground_truth\": example['answer'],\n",
    "        \"model_answer\": parsed_data.get('answer'),\n",
    "        \"confidence\": parsed_data.get('confidence'),\n",
    "        \"explanation\": parsed_data.get('explanation'),\n",
    "        \"think_process\": parsed_data.get('think_process'),\n",
    "        \"parse_error\": parsed_data.get('error'),\n",
    "        \"raw_output\": raw_output\n",
    "    }\n",
    "    results.append(record)\n"
   ]
  },
  {
   "cell_type": "markdown",
   "metadata": {},
   "source": [
    "## 5. Save Results"
   ]
  },
  {
   "cell_type": "code",
   "execution_count": null,
   "metadata": {},
   "outputs": [],
   "source": [
    "results_df = pd.DataFrame(results)\n",
    "\n",
    "# 出力ディレクトリとファイル名を設定\n",
    "output_dir = config['output_path']\n",
    "config_name = CONFIG_FILE.split('/')[-1].replace('.yml', '')\n",
    "output_csv_path = f\"{output_dir}/{config_name}_results.csv\"\n",
    "\n",
    "# 出力ディレクトリを確認し、存在しない場合は作成する\n",
    "ensure_dir(output_dir)\n",
    "\n",
    "# 結果をCSVファイルに保存\n",
    "results_df.to_csv(output_csv_path, index=False, encoding='utf-8-sig')\n",
    "\n",
    "print(f\"Results successfully saved to: {output_csv_path}\")\n",
    "display(results_df.head())"
   ]
  }
 ],
 "metadata": {
  "kernelspec": {
   "display_name": "Python 3 (ipykernel)",
   "language": "python",
   "name": "python3"
  },
  "language_info": {
   "codemirror_mode": {
    "name": "ipython",
    "version": 3
   },
   "file_extension": ".py",
   "mimetype": "text/x-python",
   "name": "python",
   "nbconvert_exporter": "python",
   "pygments_lexer": "ipython3",
   "version": "3.11.0rc1"
  }
 },
 "nbformat": 4,
 "nbformat_minor": 4
}
